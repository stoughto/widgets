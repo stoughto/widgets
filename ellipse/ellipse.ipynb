{
 "cells": [
  {
   "cell_type": "markdown",
   "metadata": {},
   "source": [
    "## Interactive Ellipse\n",
    "\n",
    "Widget use copied from https://kapernikov.com/ipywidgets-with-matplotlib/\n"
   ]
  },
  {
   "cell_type": "code",
   "execution_count": 1,
   "metadata": {},
   "outputs": [],
   "source": [
    "%matplotlib widget\n",
    "import ipywidgets as widgets\n",
    "import matplotlib.pyplot as plt\n",
    "import numpy as np"
   ]
  },
  {
   "cell_type": "code",
   "execution_count": 88,
   "metadata": {},
   "outputs": [
    {
     "data": {
      "application/vnd.jupyter.widget-view+json": {
       "model_id": "43a02cf68ffd4b67aee85b9e7eb28e60",
       "version_major": 2,
       "version_minor": 0
      },
      "text/plain": [
       "Ellipse(children=(VBox(children=(FloatSlider(value=20.0, description='a (semi-major axis):', max=30.0, min=0.1…"
      ]
     },
     "metadata": {},
     "output_type": "display_data"
    }
   ],
   "source": [
    "debug_view = widgets.Output(layout={'border': '1px solid black'})\n",
    "\n",
    "def make_box_layout():\n",
    "     return widgets.Layout(\n",
    "        border='solid 1px black',\n",
    "        margin='0px 10px 10px 0px',\n",
    "        padding='5px 5px 5px 5px'\n",
    "     )\n",
    " \n",
    "class Ellipse(widgets.HBox):\n",
    "     \n",
    "    def __init__(self):\n",
    "        super().__init__()\n",
    "        plt.close()\n",
    "        output = widgets.Output()\n",
    " \n",
    "        self.thetas = np.linspace(0, 2 * np.pi, num = 500, endpoint=True)\n",
    "        initial_color = '#DD0202'\n",
    "        self.plotSize = 50\n",
    "        with output:\n",
    "            self.fig, self.ax = plt.subplots(constrained_layout=True, figsize=(5, 3.5))\n",
    "            self.ax.set_xlim(-self.plotSize,self.plotSize)\n",
    "            self.ax.set_ylim(-self.plotSize,self.plotSize)\n",
    "            self.ax.set_aspect('equal')\n",
    "            \n",
    "        self.a = 20\n",
    "        self.b = 10\n",
    "        self.radians = np.radians(0)\n",
    "        self.x = 0\n",
    "        self.y = 0\n",
    "        \n",
    "        self._defineWidgets()\n",
    "\n",
    "        self.updateXY()\n",
    "        self.line, = self.ax.plot(self.xs, self.ys, initial_color)\n",
    "        self.foci,  = self.ax.plot(self.fxs, self.fys, \"b+\")\n",
    "         \n",
    "        self.fig.canvas.toolbar_position = 'bottom'\n",
    "        self.ax.grid(True)\n",
    " \n",
    " \n",
    "        controls = widgets.VBox([\n",
    "            self.a_slider, \n",
    "            self.b_slider, \n",
    "            self.r_slider,\n",
    "            self.x_slider,\n",
    "            self.y_slider,\n",
    "            self.e_text,\n",
    "        ])\n",
    "        controls.layout = make_box_layout()\n",
    "         \n",
    "        out_box = widgets.Box([output])\n",
    "        output.layout = make_box_layout()\n",
    " \n",
    "        # observe stuff\n",
    "        self.a_slider.observe(self.update_a, 'value')\n",
    "        self.b_slider.observe(self.update_b, 'value')\n",
    "        self.r_slider.observe(self.update_r, 'value')\n",
    "        self.x_slider.observe(self.update_x, 'value')\n",
    "        self.y_slider.observe(self.update_y, 'value')\n",
    "               \n",
    "        # add to children\n",
    "        self.children = [controls, output]\n",
    "    def _defineWidgets(self):\n",
    "        # define widgets\n",
    "        self.a_slider = widgets.FloatSlider(\n",
    "            value=self.a,\n",
    "            min=0.1,\n",
    "            max=30.0,\n",
    "            step=0.01,\n",
    "            description='a (semi-major axis):',\n",
    "            disabled=False,\n",
    "            continuous_update=True,\n",
    "            orientation='horizontal',\n",
    "            readout=True,\n",
    "            readout_format='.2f',\n",
    "            style = {'description_width': 'initial'}\n",
    "        )\n",
    "        self.b_slider = widgets.FloatSlider(\n",
    "            value=self.b,\n",
    "            min=0.1,\n",
    "            max=30.0,\n",
    "            step=0.01,\n",
    "            description='b (semi-minor axis):',\n",
    "            disabled=False,\n",
    "            continuous_update=True,\n",
    "            orientation='horizontal',\n",
    "            readout=True,\n",
    "            readout_format='.2f',\n",
    "            style = {'description_width': 'initial'}\n",
    "        )\n",
    "        self.r_slider = widgets.FloatSlider(\n",
    "            value=self.radians,\n",
    "            min=0,\n",
    "            max=180.0,\n",
    "            step=0.1,\n",
    "            description='rotation (degrees):',\n",
    "            disabled=False,\n",
    "            continuous_update=True,\n",
    "            orientation='horizontal',\n",
    "            readout=True,\n",
    "            readout_format='.1f',\n",
    "            style = {'description_width': 'initial'}\n",
    "        )\n",
    " \n",
    "        self.x_slider = widgets.FloatSlider(\n",
    "            value=self.x,\n",
    "            min=-self.plotSize,\n",
    "            max=self.plotSize,\n",
    "            step=0.1,\n",
    "            description='x center:',\n",
    "            disabled=False,\n",
    "            continuous_update=True,\n",
    "            orientation='horizontal',\n",
    "            readout=True,\n",
    "            readout_format='.1f',\n",
    "            style = {'description_width': 'initial'}\n",
    "        )\n",
    " \n",
    "        self.y_slider = widgets.FloatSlider(\n",
    "            value=self.x,\n",
    "            min=-self.plotSize,\n",
    "            max=self.plotSize,\n",
    "            step=0.1,\n",
    "            description='y center:',\n",
    "            disabled=False,\n",
    "            continuous_update=True,\n",
    "            orientation='horizontal',\n",
    "            readout=True,\n",
    "            readout_format='.1f',\n",
    "            style = {'description_width': 'initial'}\n",
    "        )\n",
    "    \n",
    "        self.e_text = widgets.Text(\n",
    "            value='?',\n",
    "            placeholder='',\n",
    "            description='ellipticity:',\n",
    "            disabled=True\n",
    "        )\n",
    "     \n",
    "    def update_a(self, change):\n",
    "        if change.new > self.b:\n",
    "            self.a = change.new\n",
    "        else:\n",
    "            self.a = self.b\n",
    "            self.a_slider.value = self.b\n",
    "        self.updatePlot()\n",
    "    def update_b(self, change):\n",
    "        if change.new < self.a:\n",
    "            self.b = change.new\n",
    "        else:\n",
    "            self.b = self.a\n",
    "            self.b_slider.value = self.a\n",
    "        self.updatePlot()\n",
    "    def update_r(self, change):\n",
    "        self.radians = np.radians(change.new)\n",
    "        self.updatePlot()\n",
    "    def update_x(self, change):\n",
    "        self.x = change.new\n",
    "        self.updatePlot()\n",
    "    def update_y(self, change):\n",
    "        self.y = change.new\n",
    "        self.updatePlot()\n",
    "    def updatePlot(self):        \n",
    "        self.updateXY()\n",
    "        self.line.set_xdata(self.xs)\n",
    "        self.line.set_ydata(self.ys)\n",
    "        self.foci.set_xdata(self.fxs)\n",
    "        self.foci.set_ydata(self.fys)\n",
    "        self.fig.canvas.draw()\n",
    "    def updateXY(self):\n",
    "        self.xs = self.a*np.cos(self.thetas)\n",
    "        self.ys = self.b*np.sin(self.thetas)\n",
    "        c, s = np.cos(-self.radians), np.sin(-self.radians)\n",
    "        j = np.array([[c, s], [-s, c]])\n",
    "        self.xs,self.ys = np.dot(j, [self.xs, self.ys])\n",
    "        self.xs += self.x\n",
    "        self.ys += self.y\n",
    "        c = np.sqrt(self.a**2 - self.b**2)\n",
    "        self.fxs,self.fys = np.dot(j,[np.array([-c,c]),np.array([0.0,0.0])])\n",
    "        self.fxs += self.x\n",
    "        self.fys += self.y\n",
    "        self.e_text.value = \"%.2f\"%(self.b/self.a)\n",
    "         \n",
    "         \n",
    "Ellipse()"
   ]
  },
  {
   "cell_type": "code",
   "execution_count": 76,
   "metadata": {},
   "outputs": [
    {
     "data": {
      "text/plain": [
       "12.0"
      ]
     },
     "execution_count": 76,
     "metadata": {},
     "output_type": "execute_result"
    }
   ],
   "source": [
    "e.a_slider.value = 12\n",
    "e.a_slider.value"
   ]
  },
  {
   "cell_type": "code",
   "execution_count": 63,
   "metadata": {},
   "outputs": [
    {
     "data": {
      "text/plain": [
       "(array([-17.32050808,  17.32050808]), array([0., 0.]), 20, 10)"
      ]
     },
     "execution_count": 63,
     "metadata": {},
     "output_type": "execute_result"
    }
   ],
   "source": [
    "e.fxs,e.fys,e.a,e.b"
   ]
  },
  {
   "cell_type": "code",
   "execution_count": 59,
   "metadata": {},
   "outputs": [
    {
     "name": "stdout",
     "output_type": "stream",
     "text": [
      "17.320508075688775\n"
     ]
    }
   ],
   "source": [
    "print(np.sqrt(20*20-10*10))"
   ]
  },
  {
   "cell_type": "code",
   "execution_count": 36,
   "metadata": {},
   "outputs": [
    {
     "data": {
      "application/vnd.jupyter.widget-view+json": {
       "model_id": "5545f6b6399d4ac6a8ad5470afdcd822",
       "version_major": 2,
       "version_minor": 0
      },
      "text/plain": [
       "Canvas(toolbar=Toolbar(toolitems=[('Home', 'Reset original view', 'home', 'home'), ('Back', 'Back to previous …"
      ]
     },
     "metadata": {},
     "output_type": "display_data"
    },
    {
     "data": {
      "text/plain": [
       "<matplotlib.legend.Legend at 0x7fd18f6c6210>"
      ]
     },
     "execution_count": 36,
     "metadata": {},
     "output_type": "execute_result"
    }
   ],
   "source": [
    "def rotate_via_numpy(xy, radians):\n",
    "    x, y = xy\n",
    "    c, s = np.cos(-radians), np.sin(-radians)\n",
    "    j = np.array([[c, s], [-s, c]])\n",
    "    m = np.dot(j, [x, y])\n",
    "    return m[0],m[1]\n",
    "xyOriginal = (np.array([10,7,0]),np.array([0,7,10]))\n",
    "plt.close()\n",
    "plt.plot(xyOriginal[0],xyOriginal[1], \"*-\", label=\"original\")\n",
    "xyRotated = rotate_via_numpy(xyOriginal, np.radians(10))\n",
    "plt.plot(xyRotated[0], xyRotated[1], \"*-\", label=\"rotated\")\n",
    "plt.legend()\n"
   ]
  },
  {
   "cell_type": "code",
   "execution_count": 35,
   "metadata": {},
   "outputs": [
    {
     "data": {
      "text/plain": [
       "array([ 9.84807753,  5.67811703, -1.73648178])"
      ]
     },
     "execution_count": 35,
     "metadata": {},
     "output_type": "execute_result"
    }
   ],
   "source": [
    "xyRotated[0]"
   ]
  }
 ],
 "metadata": {
  "kernelspec": {
   "display_name": "Python 3",
   "language": "python",
   "name": "python3"
  },
  "language_info": {
   "codemirror_mode": {
    "name": "ipython",
    "version": 3
   },
   "file_extension": ".py",
   "mimetype": "text/x-python",
   "name": "python",
   "nbconvert_exporter": "python",
   "pygments_lexer": "ipython3",
   "version": "3.7.6"
  }
 },
 "nbformat": 4,
 "nbformat_minor": 4
}
